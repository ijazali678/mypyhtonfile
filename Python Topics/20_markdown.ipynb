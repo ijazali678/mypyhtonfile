{
 "cells": [
  {
   "cell_type": "markdown",
   "metadata": {},
   "source": [
    "# Markdown is language used for to save your language"
   ]
  },
  {
   "cell_type": "markdown",
   "metadata": {},
   "source": [
    "how to give heading in markdown file?"
   ]
  },
  {
   "cell_type": "markdown",
   "metadata": {},
   "source": [
    "#  heading 1"
   ]
  },
  {
   "cell_type": "markdown",
   "metadata": {},
   "source": [
    "## 1- heading 2"
   ]
  },
  {
   "cell_type": "markdown",
   "metadata": {},
   "source": [
    "### 2- heading 3"
   ]
  },
  {
   "cell_type": "markdown",
   "metadata": {},
   "source": [
    "#### 3- heading 4"
   ]
  },
  {
   "cell_type": "markdown",
   "metadata": {},
   "source": [
    "##### 4- heading 5 "
   ]
  },
  {
   "cell_type": "markdown",
   "metadata": {},
   "source": [
    "# 2- block of words"
   ]
  },
  {
   "cell_type": "markdown",
   "metadata": {},
   "source": [
    "**BOLD**"
   ]
  },
  {
   "cell_type": "markdown",
   "metadata": {},
   "source": [
    "*italic*"
   ]
  },
  {
   "cell_type": "markdown",
   "metadata": {},
   "source": [
    "__ijaz__"
   ]
  },
  {
   "cell_type": "markdown",
   "metadata": {},
   "source": [
    "_ijazali_"
   ]
  },
  {
   "cell_type": "markdown",
   "metadata": {},
   "source": [
    "#  3- bullets points"
   ]
  },
  {
   "cell_type": "markdown",
   "metadata": {},
   "source": [
    "- Day-1\n",
    "- Day-2\n",
    "- Day-3\n",
    "    - Day-4a\n",
    "    - Day-4b\n",
    "- Day-5\n",
    "    - Day-5a\n",
    "        - Hours-3\n",
    "1. day-6\n",
    "     "
   ]
  },
  {
   "cell_type": "markdown",
   "metadata": {},
   "source": [
    "---"
   ]
  },
  {
   "cell_type": "markdown",
   "metadata": {},
   "source": [
    "how to make brak by --- dashe"
   ]
  },
  {
   "cell_type": "markdown",
   "metadata": {},
   "source": [
    "# links and hyperlinks"
   ]
  },
  {
   "cell_type": "markdown",
   "metadata": {},
   "source": [
    "<www.ijazalijin.wordpress.com>"
   ]
  },
  {
   "cell_type": "markdown",
   "metadata": {},
   "source": [
    "[آپ فٹ بال لیگ میں رجسٹر ہونا چاہتے ہیں۔](https://docs.google.com/forms/d/e/1FAIpQLSc__VRNuZMjURXSZ9g8D0zOjg2SLeKHyIGpyvBZIKu9iYjdCA/viewform?usp=sf_link) "
   ]
  },
  {
   "cell_type": "markdown",
   "metadata": {},
   "source": [
    "# 4- image and figure with link"
   ]
  },
  {
   "cell_type": "markdown",
   "metadata": {},
   "source": [
    "watch more: \n",
    "![QR](jinqr.png)"
   ]
  },
  {
   "cell_type": "markdown",
   "metadata": {},
   "source": [
    "```\n",
    "x= 5+4\n",
    "\n",
    "\n",
    "```"
   ]
  },
  {
   "cell_type": "markdown",
   "metadata": {},
   "source": [
    "**itali**"
   ]
  }
 ],
 "metadata": {
  "kernelspec": {
   "display_name": "Python 3.10.1 64-bit",
   "language": "python",
   "name": "python3"
  },
  "language_info": {
   "name": "python",
   "version": "3.10.1"
  },
  "orig_nbformat": 4,
  "vscode": {
   "interpreter": {
    "hash": "a6e8550327c9fa9e62d29b959f073563f4a539544307c5d1734524e637828506"
   }
  }
 },
 "nbformat": 4,
 "nbformat_minor": 2
}
