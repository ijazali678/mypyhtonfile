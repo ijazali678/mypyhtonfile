{
 "cells": [
  {
   "cell_type": "markdown",
   "metadata": {},
   "source": [
    "# Crush Course of python with Baba Aammar\n",
    "## Chapter First\n",
    "### First line of code\n",
    " "
   ]
  },
  {
   "cell_type": "code",
   "execution_count": 41,
   "metadata": {},
   "outputs": [
    {
     "name": "stdout",
     "output_type": "stream",
     "text": [
      "9.0\n",
      "4\n",
      "hello world\n",
      "i am learning python of data science with baba ammar\n",
      "2\n"
     ]
    }
   ],
   "source": [
    "#print is build in function used in programing \n",
    "\n",
    "print(4-5/5+6)\n",
    "print(2+2)\n",
    "print(\"hello world\")\n",
    "print(\"i am learning python of data science with baba ammar\")\n",
    "print(2)\n"
   ]
  },
  {
   "cell_type": "markdown",
   "metadata": {},
   "source": [
    "## Chapter Second\n",
    "### Operators \n",
    " "
   ]
  },
  {
   "cell_type": "markdown",
   "metadata": {},
   "source": [
    "1) addition simple we write (+)"
   ]
  },
  {
   "cell_type": "code",
   "execution_count": 42,
   "metadata": {},
   "outputs": [
    {
     "name": "stdout",
     "output_type": "stream",
     "text": [
      "5\n"
     ]
    }
   ],
   "source": [
    "print(2+3)"
   ]
  },
  {
   "cell_type": "markdown",
   "metadata": {},
   "source": [
    "2) for substraction simple we write (-)"
   ]
  },
  {
   "cell_type": "code",
   "execution_count": 43,
   "metadata": {},
   "outputs": [
    {
     "name": "stdout",
     "output_type": "stream",
     "text": [
      "-1\n"
     ]
    }
   ],
   "source": [
    "print(2-3)"
   ]
  },
  {
   "cell_type": "markdown",
   "metadata": {},
   "source": [
    "3) for multiplication we use (*)"
   ]
  },
  {
   "cell_type": "code",
   "execution_count": 44,
   "metadata": {},
   "outputs": [
    {
     "name": "stdout",
     "output_type": "stream",
     "text": [
      "6\n"
     ]
    }
   ],
   "source": [
    "print(2*3)"
   ]
  },
  {
   "cell_type": "markdown",
   "metadata": {},
   "source": [
    "4) for divide we use (/)"
   ]
  },
  {
   "cell_type": "code",
   "execution_count": 45,
   "metadata": {},
   "outputs": [
    {
     "name": "stdout",
     "output_type": "stream",
     "text": [
      "0.6666666666666666\n"
     ]
    }
   ],
   "source": [
    "print(2/3)"
   ]
  },
  {
   "cell_type": "markdown",
   "metadata": {},
   "source": [
    "Remembar if we need whole number in division the we use ( // )"
   ]
  },
  {
   "cell_type": "code",
   "execution_count": 46,
   "metadata": {},
   "outputs": [
    {
     "name": "stdout",
     "output_type": "stream",
     "text": [
      "2\n",
      "2.6666666666666665\n"
     ]
    }
   ],
   "source": [
    "print(8//3)\n",
    "print(8/3)"
   ]
  },
  {
   "cell_type": "markdown",
   "metadata": {},
   "source": [
    "5) Remembar for reminder we use (%) "
   ]
  },
  {
   "cell_type": "code",
   "execution_count": 47,
   "metadata": {},
   "outputs": [
    {
     "name": "stdout",
     "output_type": "stream",
     "text": [
      "2\n"
     ]
    }
   ],
   "source": [
    "print(8%3)"
   ]
  },
  {
   "cell_type": "markdown",
   "metadata": {},
   "source": [
    "6) for to the power we use ( ** )"
   ]
  },
  {
   "cell_type": "code",
   "execution_count": 48,
   "metadata": {},
   "outputs": [
    {
     "name": "stdout",
     "output_type": "stream",
     "text": [
      "32\n"
     ]
    }
   ],
   "source": [
    "print(2**5)"
   ]
  },
  {
   "cell_type": "markdown",
   "metadata": {},
   "source": [
    "Always remember python opperator work in this formula\n",
    "\n",
    "# PEMDAS formula python work\n",
    "\n",
    "perentesis, Exponentional, multiplication, division, addition, and then substraction"
   ]
  },
  {
   "cell_type": "markdown",
   "metadata": {},
   "source": [
    "## Chapter third\n",
    "### String\n",
    " "
   ]
  },
  {
   "cell_type": "code",
   "execution_count": 49,
   "metadata": {},
   "outputs": [
    {
     "name": "stdout",
     "output_type": "stream",
     "text": [
      "hello world\n",
      "i am learning pythin\n",
      "test for single\n",
      "test for double cots\n",
      " My name is ijaz ali\n"
     ]
    }
   ],
   "source": [
    "print(\"hello world\")\n",
    "print(\"i am learning pythin\")\n",
    "\n",
    "#test for single cotes\n",
    "print('test for single')\n",
    "\n",
    "#test for double cots\n",
    "print(\"test for double cots\")\n",
    "\n",
    "#test for triple cots\n",
    "print(''' My name is ijaz ali''')\n"
   ]
  },
  {
   "cell_type": "markdown",
   "metadata": {},
   "source": [
    "## Chapter fourth\n",
    "### Comments\n",
    " "
   ]
  },
  {
   "cell_type": "code",
   "execution_count": 50,
   "metadata": {},
   "outputs": [
    {
     "name": "stdout",
     "output_type": "stream",
     "text": [
      "hi buddy\n",
      "ctrl + / is use for comment the line \n"
     ]
    }
   ],
   "source": [
    "print(\"hi buddy\") # this hishtaq is used for comments\n",
    "print(\"ctrl + / is use for comment the line \") "
   ]
  },
  {
   "cell_type": "markdown",
   "metadata": {},
   "source": [
    "## Chapter fifth\n",
    "### variables\n",
    "\n",
    "variable is an object which have containing specific values.\n"
   ]
  },
  {
   "cell_type": "code",
   "execution_count": 51,
   "metadata": {},
   "outputs": [
    {
     "name": "stdout",
     "output_type": "stream",
     "text": [
      "my name is ijaz ali\n",
      "<class 'str'>\n",
      "4\n",
      "<class 'int'>\n",
      "('mangoes', 'oranges')\n",
      "<class 'int'>\n",
      "Mango\n",
      "<class 'str'>\n"
     ]
    }
   ],
   "source": [
    "\n",
    "# for example \n",
    "x= 67 # Intiger value\n",
    "y=2.4 # float\n",
    "z=\"my name is ijaz ali\"  # string variable\n",
    "\n",
    "print(z)\n",
    "\n",
    "#type function\n",
    "print(type(z))\n",
    "\n",
    "#assingment  comment #print_type_class\n",
    "\n",
    "#Rules for assign a variable\n",
    "# 1- the variable shoul contain letters, numbers or underscores\n",
    "# 2- Do not start with numbers\n",
    "# 3- space are not allowed\n",
    "# 4- do not use functional key words\n",
    "# 5- short and descriptive\n",
    "# 6- case sensitivity (use lowercase latters)\n",
    "\n",
    "#example \n",
    "fruits = 4\n",
    "print(fruits)\n",
    "print(type(fruits))\n",
    "\n",
    "fruits1 = \"mangoes\", \"oranges\"\n",
    "print(fruits1)\n",
    "\n",
    "print(type(fruits))\n",
    "\n",
    "\n",
    "\n",
    "#put input function \n",
    "\n",
    "fruit_basket = input(\"what is your fruite fruit? \")\n",
    "print(fruit_basket)\n",
    "print(type(fruit_basket))\n"
   ]
  },
  {
   "cell_type": "markdown",
   "metadata": {},
   "source": [
    "## Chapter Sixth\n",
    "### Conditional logices\n",
    "\n",
    "Conditional logical or opperators are either true or flase or yes or no or 0 or 1.\n",
    "\n",
    "equal to                   ==\n",
    "\n",
    "nor equal to               !=\n",
    "\n",
    "less then                  <\n",
    "\n",
    "greater then               >\n",
    "\n",
    "less then and equal to     <=\n",
    "\n",
    "greater than and equal to  >="
   ]
  },
  {
   "cell_type": "code",
   "execution_count": 52,
   "metadata": {},
   "outputs": [
    {
     "name": "stdout",
     "output_type": "stream",
     "text": [
      "False\n",
      "True\n",
      "True\n",
      "False\n",
      "True\n",
      "True\n"
     ]
    }
   ],
   "source": [
    "#is 4 equal to 4?\n",
    "print(4==5)\n",
    "print(4!=5)\n",
    "print(4>3)\n",
    "print(4<2)\n",
    "print(3<=3)\n",
    "print(5>=4)"
   ]
  },
  {
   "cell_type": "markdown",
   "metadata": {},
   "source": [
    "Application of logical opperators"
   ]
  },
  {
   "cell_type": "code",
   "execution_count": 53,
   "metadata": {},
   "outputs": [
    {
     "name": "stdout",
     "output_type": "stream",
     "text": [
      "False\n"
     ]
    }
   ],
   "source": [
    "ijaz_age = 4\n",
    "age_at_school= 5\n",
    "print(ijaz_age==age_at_school)"
   ]
  },
  {
   "cell_type": "markdown",
   "metadata": {},
   "source": [
    "Another way of writing this with input function"
   ]
  },
  {
   "cell_type": "code",
   "execution_count": 54,
   "metadata": {},
   "outputs": [
    {
     "name": "stdout",
     "output_type": "stream",
     "text": [
      "<class 'int'>\n",
      "True\n"
     ]
    }
   ],
   "source": [
    "age_at_school= 5\n",
    "ijaz_age = input(\"how old is ijaz? \") #input value is string you have to change at to numerical value\n",
    "ijaz_age= int(ijaz_age)\n",
    "print(type(ijaz_age))\n",
    "print(ijaz_age>=age_at_school)\n"
   ]
  },
  {
   "cell_type": "code",
   "execution_count": 55,
   "metadata": {},
   "outputs": [
    {
     "name": "stdout",
     "output_type": "stream",
     "text": [
      "208\n"
     ]
    }
   ],
   "source": [
    "calories_in_1_gram = 4\n",
    "find = input(\"how many gram are there in \")\n",
    "find = int(find)\n",
    "\n",
    "\n",
    "print(calories_in_1_gram * find)\n"
   ]
  },
  {
   "cell_type": "markdown",
   "metadata": {},
   "source": [
    "## Chapter seventh\n",
    "### Types of conversion\n",
    "\n"
   ]
  },
  {
   "cell_type": "code",
   "execution_count": 56,
   "metadata": {},
   "outputs": [
    {
     "name": "stdout",
     "output_type": "stream",
     "text": [
      "<class 'int'>\n",
      "<class 'float'>\n",
      "<class 'str'>\n"
     ]
    }
   ],
   "source": [
    "x= 10   #intiger\n",
    "y= 1.5  #float   \n",
    "z= \"ijaz ali\" #string\n",
    "\n",
    "print(type(x))\n",
    "print(type(y))\n",
    "print(type(z))"
   ]
  },
  {
   "cell_type": "code",
   "execution_count": 57,
   "metadata": {},
   "outputs": [
    {
     "name": "stdout",
     "output_type": "stream",
     "text": [
      "<class 'int'>\n",
      "True\n",
      "23 <class 'int'>\n"
     ]
    }
   ],
   "source": [
    "#explacit type conversion\n",
    "ijaz_age = input(\"how old is ijaz? \") #input value is string you have to change at to numerical value\n",
    "ijaz_age=int(ijaz_age)\n",
    "print(type(ijaz_age))\n",
    "print(ijaz_age>=age_at_school)\n",
    "\n",
    "#int\n",
    "#float\n",
    "#str\n",
    "\n",
    "#above these are function for conversion of type\n",
    "\n",
    "ijaz_age = input(\"how old is ijaz? \") #input value is string you have to change at to numerical value\n",
    "print(ijaz_age, type(int(ijaz_age)))\n"
   ]
  },
  {
   "cell_type": "markdown",
   "metadata": {},
   "source": [
    "## Chapter eighth\n",
    "### Input Function\n",
    "\n",
    "input function for asking a user what do you like to eat\n"
   ]
  },
  {
   "cell_type": "code",
   "execution_count": 58,
   "metadata": {},
   "outputs": [
    {
     "name": "stdout",
     "output_type": "stream",
     "text": [
      "Mango\n"
     ]
    }
   ],
   "source": [
    "fruits_basket= input(\"what do you like in fruits?\")\n",
    "print(fruits_basket)"
   ]
  },
  {
   "cell_type": "markdown",
   "metadata": {},
   "source": [
    "Second stage of input "
   ]
  },
  {
   "cell_type": "code",
   "execution_count": 59,
   "metadata": {},
   "outputs": [
    {
     "name": "stdout",
     "output_type": "stream",
     "text": [
      "hello!\n",
      "ijaz ali\n"
     ]
    }
   ],
   "source": [
    "name=input('what is your name? ')\n",
    "greeting=\"hello!\"\n",
    "print(greeting)\n",
    "print(name)"
   ]
  },
  {
   "cell_type": "markdown",
   "metadata": {},
   "source": [
    "Another way of using input function"
   ]
  },
  {
   "cell_type": "code",
   "execution_count": 60,
   "metadata": {},
   "outputs": [
    {
     "name": "stdout",
     "output_type": "stream",
     "text": [
      "hellow! ijaz\n"
     ]
    }
   ],
   "source": [
    "name=input('what is your name? ')\n",
    "print(\"hellow!\", name)\n"
   ]
  },
  {
   "cell_type": "markdown",
   "metadata": {},
   "source": [
    "Third stage of using input function"
   ]
  },
  {
   "cell_type": "code",
   "execution_count": 61,
   "metadata": {},
   "outputs": [
    {
     "name": "stdout",
     "output_type": "stream",
     "text": [
      "hellow!! ijaz ali  you are still young\n"
     ]
    }
   ],
   "source": [
    "name= input(\"what is your name?  \")\n",
    "age=input(\"how old are you? \")\n",
    "greeting=\"hellow!!\"\n",
    "\n",
    "print(greeting,name,\" you are still young\")"
   ]
  },
  {
   "cell_type": "markdown",
   "metadata": {},
   "source": [
    "## Chapter Ninth\n",
    "### Function\n",
    "\n",
    "what is function e.g print function\n",
    "\n",
    "these are already build code which give him output\n"
   ]
  },
  {
   "cell_type": "code",
   "execution_count": 62,
   "metadata": {},
   "outputs": [
    {
     "name": "stdout",
     "output_type": "stream",
     "text": [
      "i am learning python with ijaz ali\n",
      "i am learning python with ijaz ali\n",
      "i am learning python with ijaz ali\n",
      "i am learning python with ijaz ali\n",
      "i am learning python with ijaz ali\n",
      "i am learning python with ijaz ali\n",
      "i am learning python with ijaz ali\n",
      "i am learning python with ijaz ali\n",
      "i am learning python with ijaz ali\n",
      "i am learning python with ijaz ali\n",
      "i am learning python with ijaz ali\n",
      "i am learning python with ijaz ali\n",
      "he is still a baby\n",
      "35\n"
     ]
    }
   ],
   "source": [
    "print(\"i am learning python with ijaz ali\")\n",
    "print(\"i am learning python with ijaz ali\")\n",
    "print(\"i am learning python with ijaz ali\")\n",
    "print(\"i am learning python with ijaz ali\")\n",
    "\n",
    "#making or defining of your own function def use and prentesis\n",
    "# 1 the first way \n",
    "\n",
    "#defining a function\n",
    "\n",
    "def alijin1():\n",
    "     print(\"i am learning python with ijaz ali\")\n",
    "     print(\"i am learning python with ijaz ali\")\n",
    "     print(\"i am learning python with ijaz ali\")\n",
    "     print(\"i am learning python with ijaz ali\")\n",
    "\n",
    "alijin1()\n",
    "\n",
    "# 2 the second way\n",
    "\n",
    "def alijin2():\n",
    "     test=(\"i am learning python with ijaz ali\")\n",
    "     print(test)\n",
    "     print(test)\n",
    "\n",
    "alijin2()\n",
    "\n",
    "# 3 the third way\n",
    "\n",
    "def alijin3(text):\n",
    "     print(text)\n",
    "     print(text)\n",
    "\n",
    "alijin3(\"i am learning python with ijaz ali\")\n",
    "\n",
    "\n",
    "#4 the fouth way if in elif conditon\n",
    "\n",
    "def school_calculater(age,text):\n",
    "     if age == 5:\n",
    "         print(\"he can join the school\")\n",
    "     elif age >15:\n",
    "         print(\"he can join the higher school\")\n",
    "     else:\n",
    "         print(\"he is still a baby\")\n",
    "\n",
    "school_calculater(4,\"ali\")\n",
    "\n",
    "\n",
    "def future_age(age):\n",
    "    new_age=age+10\n",
    "    return new_age\n",
    "    print(new_age)\n",
    "\n",
    "future_age = future_age(25)\n",
    "print(future_age)\n",
    "\n"
   ]
  },
  {
   "cell_type": "markdown",
   "metadata": {},
   "source": [
    "## Chapter Ninth\n",
    "### loops while and for loops\n",
    "\n",
    "kaam bar bar karna jab wo samaj na jayai\n",
    "\n"
   ]
  },
  {
   "cell_type": "code",
   "execution_count": 63,
   "metadata": {},
   "outputs": [
    {
     "name": "stdout",
     "output_type": "stream",
     "text": [
      "0\n",
      "1\n",
      "2\n",
      "3\n",
      "4\n",
      "10\n",
      "11\n",
      "12\n",
      "13\n",
      "14\n",
      "mon\n",
      "tue\n",
      "wed\n",
      "thu\n",
      "fri\n",
      "sat\n",
      "sun\n",
      "mon\n",
      "tue\n",
      "thu\n",
      "fri\n",
      "sat\n",
      "sun\n"
     ]
    }
   ],
   "source": [
    "\n",
    "#while loops\n",
    "x= 0\n",
    "while(x<5):\n",
    "   print(x)\n",
    "   x=x+1\n",
    "\n",
    "#for loops\n",
    "\n",
    "for x in range(10,15):\n",
    "    print(x)\n",
    "\n",
    "\n",
    "#array\n",
    "days =[\"mon\",\"tue\",\"wed\",\"thu\",\"fri\",\"sat\",\"sun\"]\n",
    "for d in days:\n",
    "     print(d)\n",
    "\n",
    "\n",
    "days =[\"mon\",\"tue\",\"wed\",\"thu\",\"fri\",\"sat\",\"sun\"]\n",
    "for d in days:\n",
    "     # if (d==\"fri\"):break\n",
    "     if (d==\"wed\"):continue\n",
    "     print(d)"
   ]
  },
  {
   "cell_type": "markdown",
   "metadata": {},
   "source": [
    "## Chapter ten\n",
    "### libraries\n",
    "\n",
    "matplolib\n",
    "\n",
    "numpy\n",
    "\n",
    "seaborn\n",
    "\n",
    "pandas\n",
    "\n",
    "math\n",
    "\n",
    "statistics\n"
   ]
  },
  {
   "cell_type": "code",
   "execution_count": 64,
   "metadata": {},
   "outputs": [
    {
     "name": "stdout",
     "output_type": "stream",
     "text": [
      "3.141592653589793\n",
      "45\n"
     ]
    }
   ],
   "source": [
    "\n",
    "import math\n",
    "print(math.pi)\n",
    "\n",
    "import statistics\n",
    "x=[23,45,34,53,36,24,62,62,87]\n",
    "print(statistics.median(x))\n",
    "\n",
    "\n",
    "#truble shooting \n",
    "\n",
    "# 1) syntex error\n",
    "# 2) runtime error means mathematical error"
   ]
  },
  {
   "cell_type": "markdown",
   "metadata": {},
   "source": [
    "## Chapter eleven\n",
    "### if and else and elif\n"
   ]
  },
  {
   "cell_type": "code",
   "execution_count": 65,
   "metadata": {},
   "outputs": [
    {
     "name": "stdout",
     "output_type": "stream",
     "text": [
      "you should take care of him he is baby\n"
     ]
    }
   ],
   "source": [
    "#for example for school requied age is 5 and\n",
    "# ali age is 4\n",
    "#our question is can he go to school\n",
    "\n",
    "\n",
    "\n",
    "requird_age_at_school = 5\n",
    "ali_age = 4\n",
    "\n",
    "\n",
    "if ali_age == requird_age_at_school:\n",
    "    print(\"ali can join the primary school \")\n",
    "elif ali_age > 10:\n",
    "    print(\"he can join the medal school\")  \n",
    "elif ali_age < 5:\n",
    "    print(\"you should take care of him he is baby\")  \n",
    "else:\n",
    "    print(\"ali cannot join the school\")\n"
   ]
  }
 ],
 "metadata": {
  "kernelspec": {
   "display_name": "Python 3.10.1 64-bit",
   "language": "python",
   "name": "python3"
  },
  "language_info": {
   "codemirror_mode": {
    "name": "ipython",
    "version": 3
   },
   "file_extension": ".py",
   "mimetype": "text/x-python",
   "name": "python",
   "nbconvert_exporter": "python",
   "pygments_lexer": "ipython3",
   "version": "3.10.1"
  },
  "orig_nbformat": 4,
  "vscode": {
   "interpreter": {
    "hash": "a6e8550327c9fa9e62d29b959f073563f4a539544307c5d1734524e637828506"
   }
  }
 },
 "nbformat": 4,
 "nbformat_minor": 2
}
