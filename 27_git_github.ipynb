{
 "cells": [
  {
   "cell_type": "markdown",
   "metadata": {},
   "source": [
    "all these write in terminal\n",
    "\n",
    "git\n",
    "\n",
    "# intialized at through\n",
    "\n",
    "git init\n",
    "\n",
    "# through whis commond at will show hidden file\n",
    "\n",
    "dir -h\n",
    "\n",
    "dir # will show you all the file\n",
    "\n",
    "cd .git \n",
    "dir \n",
    "\n",
    "# the above comment show you hidden fileclear\n",
    "\n"
   ]
  },
  {
   "cell_type": "markdown",
   "metadata": {},
   "source": []
  },
  {
   "cell_type": "markdown",
   "metadata": {},
   "source": []
  },
  {
   "cell_type": "markdown",
   "metadata": {},
   "source": []
  },
  {
   "cell_type": "markdown",
   "metadata": {},
   "source": []
  },
  {
   "cell_type": "markdown",
   "metadata": {},
   "source": []
  },
  {
   "cell_type": "markdown",
   "metadata": {},
   "source": []
  },
  {
   "cell_type": "markdown",
   "metadata": {},
   "source": []
  },
  {
   "cell_type": "markdown",
   "metadata": {},
   "source": []
  }
 ],
 "metadata": {
  "language_info": {
   "name": "python"
  },
  "orig_nbformat": 4
 },
 "nbformat": 4,
 "nbformat_minor": 2
}
