{
 "cells": [
  {
   "cell_type": "markdown",
   "metadata": {},
   "source": [
    "all these write in terminal\n",
    "\n",
    "git\n",
    "\n",
    "# intialized at through\n",
    "\n",
    "git init\n",
    "\n",
    "# through whis commond at will show hidden file\n",
    "\n",
    "dir -h\n",
    "\n",
    "dir # will show you all the file\n",
    "\n",
    "cd .git \n",
    "dir \n",
    "\n",
    "# the above comment show you hidden fileclear\n",
    "when you save at all the file will get show U sign\n",
    "the you have write \n",
    "git status  # this commond will show untract file\n",
    "\n",
    "git branch # to shaow at\n",
    "\n",
    "git add -A  # though this commond the fill will change to from U to A status.\n",
    "\n",
    "its mean it add into staging area\n",
    "\n",
    "# now again chech the status \n",
    "\n",
    "git status\n",
    "all file will show in green color they are add but not commited\n",
    "\n",
    "# for commiting  \n",
    "git commit -m \"00_first_line_of_code.py Created\"\n",
    "\n",
    "\n",
    "# it will show comfigring i already configer\n",
    "\n",
    "git branch\n",
    "\n",
    "git chechout main\n",
    "\n",
    "git merge contact\n",
    "\n",
    "\n",
    "https://github.com/ijazali678/mypyhtonfile.git\n",
    "\n",
    "git remote\n",
    "\n",
    "\n",
    "git pull --rebase origin branchname or (main)\n",
    "\n",
    "git push origin branchname or (main)"
   ]
  },
  {
   "cell_type": "markdown",
   "metadata": {},
   "source": []
  },
  {
   "cell_type": "markdown",
   "metadata": {},
   "source": []
  },
  {
   "cell_type": "markdown",
   "metadata": {},
   "source": []
  },
  {
   "cell_type": "markdown",
   "metadata": {},
   "source": []
  },
  {
   "cell_type": "markdown",
   "metadata": {},
   "source": []
  },
  {
   "cell_type": "markdown",
   "metadata": {},
   "source": []
  },
  {
   "cell_type": "markdown",
   "metadata": {},
   "source": []
  },
  {
   "cell_type": "markdown",
   "metadata": {},
   "source": []
  }
 ],
 "metadata": {
  "kernelspec": {
   "display_name": "Python 3.9.7 ('base')",
   "language": "python",
   "name": "python3"
  },
  "language_info": {
   "name": "python",
   "version": "3.9.7"
  },
  "orig_nbformat": 4,
  "vscode": {
   "interpreter": {
    "hash": "89d004a985896ab8d4f08cf14ee7088947905dfdacbd1a4e8313a12e3c3f6868"
   }
  }
 },
 "nbformat": 4,
 "nbformat_minor": 2
}
