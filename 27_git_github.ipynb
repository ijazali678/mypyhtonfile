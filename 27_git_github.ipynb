{
 "cells": [
  {
   "cell_type": "markdown",
   "metadata": {},
   "source": [
    "all these write in terminal\n",
    "\n",
    "git\n",
    "\n",
    "# intialized at through\n",
    "\n",
    "git init\n",
    "\n",
    "# through whis commond at will show hidden file\n",
    "\n",
    "dir -h\n",
    "\n",
    "dir # will show you all the file\n",
    "\n",
    "cd .git \n",
    "dir \n",
    "\n",
    "# the above comment show you hidden fileclear\n",
    "when you save at all the file will get show U sign\n",
    "the you have write \n",
    "git status  # this commond will show untract file\n",
    "\n",
    "git branch # to shaow at\n",
    "\n",
    "git add -A  # though this commond the fill will change to from U to A status.\n",
    "\n",
    "its mean it add into staging area\n",
    "\n",
    "# now again chech the status \n",
    "\n",
    "git status\n",
    "all file will show in green color they are add but not commited\n",
    "\n",
    "# for commiting  \n",
    "git commit -m \"00_first_line_of_code.py Created\"\n",
    "\n",
    "\n",
    "# it will show comfigring i already configer\n",
    "\n",
    "git branch\n",
    "\n",
    "git chechout main\n",
    "\n",
    "git merge contact\n",
    "\n",
    "\n",
    "https://github.com/ijazali678/mypyhtonfile.git\n",
    "\n",
    "git remote\n",
    "\n"
   ]
  },
  {
   "cell_type": "markdown",
   "metadata": {},
   "source": []
  },
  {
   "cell_type": "markdown",
   "metadata": {},
   "source": []
  },
  {
   "cell_type": "markdown",
   "metadata": {},
   "source": []
  },
  {
   "cell_type": "markdown",
   "metadata": {},
   "source": []
  },
  {
   "cell_type": "markdown",
   "metadata": {},
   "source": []
  },
  {
   "cell_type": "markdown",
   "metadata": {},
   "source": []
  },
  {
   "cell_type": "markdown",
   "metadata": {},
   "source": []
  },
  {
   "cell_type": "markdown",
   "metadata": {},
   "source": []
  }
 ],
 "metadata": {
  "language_info": {
   "name": "python"
  },
  "orig_nbformat": 4
 },
 "nbformat": 4,
 "nbformat_minor": 2
}
